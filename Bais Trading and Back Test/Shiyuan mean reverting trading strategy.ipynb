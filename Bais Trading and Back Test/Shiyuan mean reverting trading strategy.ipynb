{
  "nbformat": 4,
  "nbformat_minor": 0,
  "metadata": {
    "colab": {
      "provenance": []
    },
    "kernelspec": {
      "name": "python3",
      "display_name": "Python 3"
    },
    "language_info": {
      "name": "python"
    }
  },
  "cells": [
    {
      "cell_type": "code",
      "execution_count": 2,
      "metadata": {
        "collapsed": true,
        "id": "4TapDSjS-epD"
      },
      "outputs": [],
      "source": [
        "import yfinance as yf\n",
        "import pandas as pd\n",
        "import numpy as np\n",
        "import plotly.graph_objects as go\n",
        "\n",
        "# Parameters\n",
        "stock = \"TSLA\"\n",
        "rolling_period = 252\n",
        "percentile_value = 90\n",
        "start_date = \"2021-12-01\"\n",
        "end_date = \"2024-12-01\"\n",
        "\n",
        "# Data Acquisition:\n",
        "stock_data = yf.download(stock, start=start_date, end=end_date)\n",
        "stock_data.reset_index(inplace=True)\n",
        "stock_data"
      ]
    },
    {
      "cell_type": "code",
      "source": [
        "# Moving Average Calculation\n",
        "sma_col = f\"MA_{rolling_period}\"\n",
        "stock_data[sma_col] = stock_data[\"Adj Close\"].rolling(window=rolling_period).mean()\n",
        "\n",
        "# Price Deviation Analysis:\n",
        "deviation_col = f\"Adj_Close_to_{sma_col}\"\n",
        "stock_data[deviation_col] = stock_data[\"Adj Close\"] / stock_data[sma_col]\n",
        "\n",
        "# Percentile Calculation\n",
        "percentile_col = f\"{percentile_value}th_Percentile\"\n",
        "stock_data[percentile_col] = (\n",
        "   stock_data[deviation_col]\n",
        "    .rolling(window=rolling_period)\n",
        "    .apply(lambda x: np.percentile(x, percentile_value), raw=True)\n",
        ")\n",
        "stock_data"
      ],
      "metadata": {
        "id": "Ji5__VU4HJPE"
      },
      "execution_count": null,
      "outputs": []
    },
    {
      "cell_type": "code",
      "source": [
        "# Visualization\n",
        "\n",
        "# Chart for Price and SMA\n",
        "fig = go.Figure()\n",
        "\n",
        "# Add TSLA Adj Close time series\n",
        "fig.add_trace(go.Scatter(x=stock_data[\"Date\"], y=stock_data[\"Adj Close\"],\n",
        "                         name=\"Adj Close\",\n",
        "                        mode=\"lines\"))\n",
        "\n",
        "# Add SMA\n",
        "fig.add_trace(go.Scatter(x=stock_data[\"Date\"], y=stock_data[sma_col],\n",
        "                        name=sma_col,\n",
        "                        mode=\"lines\"))\n",
        "\n",
        "fig.update_layout(\n",
        "     title=f\"{stock} Adj Close and SMA\",\n",
        "    xaxis_title=\"Date\",\n",
        "    yaxis_title=\"Price\",\n",
        "    template=\"plotly_white\"\n",
        ")\n",
        "\n",
        "fig.show()\n",
        "\n",
        "\n",
        "\n",
        "# Chart for deviation and percentile\n",
        "\n",
        "fig = go.Figure()\n",
        "\n",
        "# Add Adj Close/SMA\n",
        "fig.add_trace(go.Scatter(x=stock_data[\"Date\"], y=stock_data[deviation_col],\n",
        "                        name=\"Price Deviation\",\n",
        "                        mode=\"lines\"))\n",
        "\n",
        "fig.add_trace(go.Scatter(x=stock_data[\"Date\"], y=stock_data[percentile_col],\n",
        "                        name=f\"{percentile_value}th Percentile\",\n",
        "                        mode=\"lines\"))\n",
        "fig.update_layout(\n",
        "     title=f\"{stock} Deviation and Percentile\",\n",
        "    xaxis_title=\"Date\",\n",
        "    template=\"plotly_white\"\n",
        ")\n",
        "\n",
        "fig.show()"
      ],
      "metadata": {
        "id": "KGhsNmz1HLk3"
      },
      "execution_count": null,
      "outputs": []
    }
  ]
}